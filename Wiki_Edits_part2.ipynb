{
 "cells": [
  {
   "cell_type": "code",
   "execution_count": 9,
   "metadata": {},
   "outputs": [],
   "source": [
    "from datetime import date\n",
    "import datetime\n",
    "import pandas as pd"
   ]
  },
  {
   "cell_type": "code",
   "execution_count": 10,
   "metadata": {},
   "outputs": [
    {
     "data": {
      "text/html": [
       "<div>\n",
       "<style scoped>\n",
       "    .dataframe tbody tr th:only-of-type {\n",
       "        vertical-align: middle;\n",
       "    }\n",
       "\n",
       "    .dataframe tbody tr th {\n",
       "        vertical-align: top;\n",
       "    }\n",
       "\n",
       "    .dataframe thead th {\n",
       "        text-align: right;\n",
       "    }\n",
       "</style>\n",
       "<table border=\"1\" class=\"dataframe\">\n",
       "  <thead>\n",
       "    <tr style=\"text-align: right;\">\n",
       "      <th></th>\n",
       "      <th>Edits</th>\n",
       "      <th>Name</th>\n",
       "    </tr>\n",
       "    <tr>\n",
       "      <th>date</th>\n",
       "      <th></th>\n",
       "      <th></th>\n",
       "    </tr>\n",
       "  </thead>\n",
       "  <tbody>\n",
       "    <tr>\n",
       "      <th>2002-01-01</th>\n",
       "      <td>58</td>\n",
       "      <td>Climate change</td>\n",
       "    </tr>\n",
       "    <tr>\n",
       "      <th>2002-02-01</th>\n",
       "      <td>96</td>\n",
       "      <td>Beryllium</td>\n",
       "    </tr>\n",
       "    <tr>\n",
       "      <th>2002-03-01</th>\n",
       "      <td>71</td>\n",
       "      <td>Invention</td>\n",
       "    </tr>\n",
       "    <tr>\n",
       "      <th>2002-04-01</th>\n",
       "      <td>37</td>\n",
       "      <td>Chess</td>\n",
       "    </tr>\n",
       "    <tr>\n",
       "      <th>2002-05-01</th>\n",
       "      <td>51</td>\n",
       "      <td>Nicolaus Copernicus</td>\n",
       "    </tr>\n",
       "    <tr>\n",
       "      <th>...</th>\n",
       "      <td>...</td>\n",
       "      <td>...</td>\n",
       "    </tr>\n",
       "    <tr>\n",
       "      <th>2021-07-01</th>\n",
       "      <td>1444</td>\n",
       "      <td>2021 Cuban protests</td>\n",
       "    </tr>\n",
       "    <tr>\n",
       "      <th>2021-08-01</th>\n",
       "      <td>1638</td>\n",
       "      <td>2021 Atlantic hurricane season</td>\n",
       "    </tr>\n",
       "    <tr>\n",
       "      <th>2021-09-01</th>\n",
       "      <td>1414</td>\n",
       "      <td>2021 Atlantic hurricane season</td>\n",
       "    </tr>\n",
       "    <tr>\n",
       "      <th>2021-10-01</th>\n",
       "      <td>1452</td>\n",
       "      <td>List of songs recorded by Alka Yagnik</td>\n",
       "    </tr>\n",
       "    <tr>\n",
       "      <th>2021-11-01</th>\n",
       "      <td>1608</td>\n",
       "      <td>Astroworld Festival crowd crush</td>\n",
       "    </tr>\n",
       "  </tbody>\n",
       "</table>\n",
       "<p>227 rows × 2 columns</p>\n",
       "</div>"
      ],
      "text/plain": [
       "            Edits                                   Name\n",
       "date                                                    \n",
       "2002-01-01     58                         Climate change\n",
       "2002-02-01     96                              Beryllium\n",
       "2002-03-01     71                              Invention\n",
       "2002-04-01     37                                  Chess\n",
       "2002-05-01     51                    Nicolaus Copernicus\n",
       "...           ...                                    ...\n",
       "2021-07-01   1444                    2021 Cuban protests\n",
       "2021-08-01   1638         2021 Atlantic hurricane season\n",
       "2021-09-01   1414         2021 Atlantic hurricane season\n",
       "2021-10-01   1452  List of songs recorded by Alka Yagnik\n",
       "2021-11-01   1608        Astroworld Festival crowd crush\n",
       "\n",
       "[227 rows x 2 columns]"
      ]
     },
     "execution_count": 10,
     "metadata": {},
     "output_type": "execute_result"
    }
   ],
   "source": [
    "appended_data = pd.read_csv('wiki_set1.csv', index_col=0)\n",
    "appended_data\n"
   ]
  },
  {
   "cell_type": "code",
   "execution_count": null,
   "metadata": {},
   "outputs": [],
   "source": []
  },
  {
   "cell_type": "code",
   "execution_count": 23,
   "metadata": {},
   "outputs": [
    {
     "data": {
      "text/plain": [
       "'https://en.wikipedia.org/w/index.php?title=Virginia_Tech_shooting&offset=20181221123845%7C874771718&limit=500&action=history'"
      ]
     },
     "execution_count": 23,
     "metadata": {},
     "output_type": "execute_result"
    }
   ],
   "source": [
    "# SCRAPE AND CATEGORIZE ALL THE ARTICLES\n",
    "\n",
    "\"https://en.wikipedia.org/w/index.php?title=Virginia_Tech_shooting&offset=20181221123845%7C874771718&limit=500&action=history\""
   ]
  }
 ],
 "metadata": {
  "kernelspec": {
   "display_name": "Python 3.10.3 64-bit ('3.10.3')",
   "language": "python",
   "name": "python3"
  },
  "language_info": {
   "codemirror_mode": {
    "name": "ipython",
    "version": 3
   },
   "file_extension": ".py",
   "mimetype": "text/x-python",
   "name": "python",
   "nbconvert_exporter": "python",
   "pygments_lexer": "ipython3",
   "version": "3.10.3"
  },
  "orig_nbformat": 4,
  "vscode": {
   "interpreter": {
    "hash": "038ce1cd4d40dc26e6104aa9b60f647614224bba049805e8c57e058d4ee31051"
   }
  }
 },
 "nbformat": 4,
 "nbformat_minor": 2
}
